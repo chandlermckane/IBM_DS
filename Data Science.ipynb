{
    "cells": [
        {
            "cell_type": "markdown",
            "metadata": {
                "collapsed": true
            },
            "source": "# My Jupyter Notebook on IBM Watson Studio"
        },
        {
            "cell_type": "markdown",
            "metadata": {},
            "source": "**Chandler Mckane** <br>\nData Scientist - AI"
        },
        {
            "cell_type": "markdown",
            "metadata": {},
            "source": "*I am interested in data science as I have a passion for figuring out how the world is all connected. I wish to use my knowlege and skill to propell us faster into the future*"
        },
        {
            "cell_type": "markdown",
            "metadata": {},
            "source": "### The cell below will execute basic arithmetic"
        },
        {
            "cell_type": "code",
            "execution_count": 3,
            "metadata": {},
            "outputs": [
                {
                    "name": "stdout",
                    "output_type": "stream",
                    "text": "3\n"
                }
            ],
            "source": "a = 1 \nb = 2\n\nprint(a + b)"
        },
        {
            "cell_type": "markdown",
            "metadata": {},
            "source": "### Languages for Data Science\n1. Python\n2. R\n3. SQL\n### Framworks for Data Science \n- TensorFlow\n- Pandas\n- PyTorch\n\n![ai](https://incubator.ucf.edu/wp-content/uploads/2023/07/artificial-intelligence-new-technology-science-futuristic-abstract-human-brain-ai-technology-cpu-central-processor-unit-chipset-big-data-machine-learning-cyber-mind-domination-generative-ai-scaled-1.jpg)\n"
        },
        {
            "cell_type": "code",
            "execution_count": null,
            "metadata": {},
            "outputs": [],
            "source": ""
        }
    ],
    "metadata": {
        "kernelspec": {
            "display_name": "Python 3.10",
            "language": "python",
            "name": "python3"
        },
        "language_info": {
            "codemirror_mode": {
                "name": "ipython",
                "version": 3
            },
            "file_extension": ".py",
            "mimetype": "text/x-python",
            "name": "python",
            "nbconvert_exporter": "python",
            "pygments_lexer": "ipython3",
            "version": "3.10.13"
        }
    },
    "nbformat": 4,
    "nbformat_minor": 1
}